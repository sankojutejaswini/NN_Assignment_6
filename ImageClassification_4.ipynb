{
  "nbformat": 4,
  "nbformat_minor": 0,
  "metadata": {
    "colab": {
      "provenance": []
    },
    "kernelspec": {
      "name": "python3",
      "display_name": "Python 3"
    },
    "language_info": {
      "name": "python"
    }
  },
  "cells": [
    {
      "cell_type": "code",
      "execution_count": null,
      "metadata": {
        "colab": {
          "base_uri": "https://localhost:8080/"
        },
        "id": "VsHZYhXKrmRA",
        "outputId": "99b352d8-9382-4979-aa3c-fab8b9137b7c"
      },
      "outputs": [
        {
          "output_type": "stream",
          "name": "stdout",
          "text": [
            "Downloading data from https://storage.googleapis.com/tensorflow/tf-keras-datasets/mnist.npz\n",
            "11490434/11490434 [==============================] - 0s 0us/step\n",
            "(28, 28)\n",
            "784\n",
            "Epoch 1/10\n",
            "235/235 [==============================] - 17s 63ms/step - loss: 6.3098 - accuracy: 0.8734 - val_loss: 0.5907 - val_accuracy: 0.9338\n",
            "Epoch 2/10\n",
            "235/235 [==============================] - 7s 29ms/step - loss: 0.4056 - accuracy: 0.9475 - val_loss: 0.5046 - val_accuracy: 0.9183\n",
            "Epoch 3/10\n",
            "235/235 [==============================] - 6s 23ms/step - loss: 0.2433 - accuracy: 0.9599 - val_loss: 0.3367 - val_accuracy: 0.9550\n",
            "Epoch 4/10\n",
            "235/235 [==============================] - 6s 27ms/step - loss: 0.1738 - accuracy: 0.9679 - val_loss: 0.3242 - val_accuracy: 0.9540\n",
            "Epoch 5/10\n",
            "235/235 [==============================] - 6s 26ms/step - loss: 0.1490 - accuracy: 0.9728 - val_loss: 0.2583 - val_accuracy: 0.9632\n",
            "Epoch 6/10\n",
            "235/235 [==============================] - 6s 26ms/step - loss: 0.1393 - accuracy: 0.9764 - val_loss: 0.2605 - val_accuracy: 0.9670\n",
            "Epoch 7/10\n",
            "235/235 [==============================] - 6s 26ms/step - loss: 0.1288 - accuracy: 0.9802 - val_loss: 0.4252 - val_accuracy: 0.9612\n",
            "Epoch 8/10\n",
            "235/235 [==============================] - 6s 26ms/step - loss: 0.1240 - accuracy: 0.9819 - val_loss: 0.3979 - val_accuracy: 0.9600\n",
            "Epoch 9/10\n",
            "235/235 [==============================] - 7s 29ms/step - loss: 0.1155 - accuracy: 0.9831 - val_loss: 0.3404 - val_accuracy: 0.9714\n",
            "Epoch 10/10\n",
            "235/235 [==============================] - 6s 26ms/step - loss: 0.1057 - accuracy: 0.9857 - val_loss: 0.3777 - val_accuracy: 0.9714\n"
          ]
        }
      ],
      "source": [
        "from keras import Sequential\n",
        "from keras.datasets import mnist\n",
        "import numpy as np\n",
        "from keras.layers import Dense\n",
        "from keras.utils import to_categorical\n",
        "\n",
        "(train_images,train_labels),(test_images, test_labels) = mnist.load_data()\n",
        "\n",
        "print(train_images.shape[1:])\n",
        "#processing the data\n",
        "#1. convert each image of shape 28*28 to 784 dimensional which will be fed to the network as a single feature\n",
        "dimData = np.prod(train_images.shape[1:])\n",
        "print(dimData)\n",
        "train_data = train_images.reshape(train_images.shape[0],dimData)\n",
        "test_data = test_images.reshape(test_images.shape[0],dimData)\n",
        "\n",
        "#converting data to float and scale values between 0 and 1\n",
        "train_data = train_data.astype('float')\n",
        "test_data = test_data.astype('float')\n",
        "\n",
        "#Commenting the scale data part\n",
        "#train_data /=255.0\n",
        "#test_data /=255.0\n",
        "\n",
        "#change the labels frominteger to one-hot encoding. to_categorical is doing the same thing as LabelEncoder()\n",
        "train_labels_one_hot = to_categorical(train_labels)\n",
        "test_labels_one_hot = to_categorical(test_labels)\n",
        "\n",
        "#creating network\n",
        "model = Sequential()\n",
        "model.add(Dense(512, activation='relu', input_shape=(dimData,)))\n",
        "model.add(Dense(512, activation='relu'))\n",
        "model.add(Dense(10, activation='softmax'))\n",
        "\n",
        "#Feeding the unscaled data to the network\n",
        "model.compile(optimizer='rmsprop', loss='categorical_crossentropy', metrics=['accuracy'])\n",
        "history = model.fit(train_data, train_labels_one_hot, batch_size=256, epochs=10, verbose=1,\n",
        "                   validation_data=(test_data, test_labels_one_hot))"
      ]
    }
  ]
}