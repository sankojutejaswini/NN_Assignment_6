{
  "nbformat": 4,
  "nbformat_minor": 0,
  "metadata": {
    "colab": {
      "provenance": []
    },
    "kernelspec": {
      "name": "python3",
      "display_name": "Python 3"
    },
    "language_info": {
      "name": "python"
    }
  },
  "cells": [
    {
      "cell_type": "code",
      "execution_count": 1,
      "metadata": {
        "colab": {
          "base_uri": "https://localhost:8080/"
        },
        "id": "VBVRH6WxW_-T",
        "outputId": "6ca77e1e-627e-4948-a3f5-01ba3c574596"
      },
      "outputs": [
        {
          "output_type": "stream",
          "name": "stdout",
          "text": [
            "Downloading data from https://storage.googleapis.com/tensorflow/tf-keras-datasets/mnist.npz\n",
            "11490434/11490434 [==============================] - 0s 0us/step\n",
            "(28, 28)\n",
            "784\n",
            "Epoch 1/10\n",
            "235/235 [==============================] - 16s 60ms/step - loss: 0.2932 - accuracy: 0.9104 - val_loss: 0.1636 - val_accuracy: 0.9472\n",
            "Epoch 2/10\n",
            "235/235 [==============================] - 5s 21ms/step - loss: 0.1002 - accuracy: 0.9691 - val_loss: 0.1133 - val_accuracy: 0.9623\n",
            "Epoch 3/10\n",
            "235/235 [==============================] - 4s 18ms/step - loss: 0.0627 - accuracy: 0.9805 - val_loss: 0.0671 - val_accuracy: 0.9793\n",
            "Epoch 4/10\n",
            "235/235 [==============================] - 4s 18ms/step - loss: 0.0437 - accuracy: 0.9863 - val_loss: 0.0916 - val_accuracy: 0.9726\n",
            "Epoch 5/10\n",
            "235/235 [==============================] - 5s 21ms/step - loss: 0.0318 - accuracy: 0.9899 - val_loss: 0.0746 - val_accuracy: 0.9767\n",
            "Epoch 6/10\n",
            "235/235 [==============================] - 4s 18ms/step - loss: 0.0224 - accuracy: 0.9933 - val_loss: 0.0604 - val_accuracy: 0.9825\n",
            "Epoch 7/10\n",
            "235/235 [==============================] - 5s 21ms/step - loss: 0.0170 - accuracy: 0.9946 - val_loss: 0.0824 - val_accuracy: 0.9782\n",
            "Epoch 8/10\n",
            "235/235 [==============================] - 4s 18ms/step - loss: 0.0125 - accuracy: 0.9964 - val_loss: 0.0685 - val_accuracy: 0.9803\n",
            "Epoch 9/10\n",
            "235/235 [==============================] - 4s 18ms/step - loss: 0.0098 - accuracy: 0.9971 - val_loss: 0.0790 - val_accuracy: 0.9800\n",
            "Epoch 10/10\n",
            "235/235 [==============================] - 5s 21ms/step - loss: 0.0066 - accuracy: 0.9980 - val_loss: 0.0696 - val_accuracy: 0.9835\n"
          ]
        }
      ],
      "source": [
        "from keras import Sequential\n",
        "from keras.datasets import mnist\n",
        "import numpy as np\n",
        "from keras.layers import Dense\n",
        "from keras.utils import to_categorical\n",
        "\n",
        "(train_images,train_labels),(test_images, test_labels) = mnist.load_data()\n",
        "\n",
        "print(train_images.shape[1:])\n",
        "#process the data\n",
        "#1. convert each image of shape 28*28 to 784 dimensional which will be fed to the network as a single feature\n",
        "dimData = np.prod(train_images.shape[1:])\n",
        "print(dimData)\n",
        "train_data = train_images.reshape(train_images.shape[0],dimData)\n",
        "test_data = test_images.reshape(test_images.shape[0],dimData)\n",
        "\n",
        "#convert data to float and scale values between 0 and 1\n",
        "train_data = train_data.astype('float')\n",
        "test_data = test_data.astype('float')\n",
        "#scale data\n",
        "train_data /=255.0\n",
        "test_data /=255.0\n",
        "#change the labels frominteger to one-hot encoding. to_categorical is doing the same thing as LabelEncoder()\n",
        "train_labels_one_hot = to_categorical(train_labels)\n",
        "test_labels_one_hot = to_categorical(test_labels)\n",
        "\n",
        "#creating network\n",
        "model = Sequential()\n",
        "model.add(Dense(512, activation='relu', input_shape=(dimData,)))\n",
        "model.add(Dense(512, activation='relu'))\n",
        "model.add(Dense(10, activation='softmax'))\n",
        "\n",
        "model.compile(optimizer='rmsprop', loss='categorical_crossentropy', metrics=['accuracy'])\n",
        "history = model.fit(train_data, train_labels_one_hot, batch_size=256, epochs=10, verbose=1,\n",
        "                   validation_data=(test_data, test_labels_one_hot))"
      ]
    },
    {
      "cell_type": "code",
      "source": [
        "import matplotlib.pyplot as plt\n",
        "# Plot the training and validation accuracy over epochs\n",
        "plt.plot(history.history['accuracy'])\n",
        "plt.plot(history.history['val_accuracy'])\n",
        "plt.title('Model accuracy')\n",
        "plt.ylabel('Accuracy')\n",
        "plt.xlabel('Epoch')\n",
        "plt.legend(['Train', 'Validation'], loc='upper left')\n",
        "plt.show()"
      ],
      "metadata": {
        "colab": {
          "base_uri": "https://localhost:8080/",
          "height": 295
        },
        "id": "bkywEfILYShU",
        "outputId": "4c486bdd-0ea8-4598-e8a0-625f9fe9f8a1"
      },
      "execution_count": null,
      "outputs": [
        {
          "output_type": "display_data",
          "data": {
            "text/plain": [
              "<Figure size 432x288 with 1 Axes>"
            ],
            "image/png": "[encoded data removed]"
          },
          "metadata": {
            "needs_background": "light"
          }
        }
      ]
    },
    {
      "cell_type": "code",
      "source": [
        "# Plot the training and validation loss over epochs\n",
        "plt.plot(history.history['loss'])\n",
        "plt.plot(history.history['val_loss'])\n",
        "plt.title('Model loss')\n",
        "plt.ylabel('Loss')\n",
        "plt.xlabel('Epoch')\n",
        "plt.legend(['Train', 'Validation'], loc='upper left')\n",
        "plt.show()"
      ],
      "metadata": {
        "colab": {
          "base_uri": "https://localhost:8080/",
          "height": 295
        },
        "id": "GFpJ2Cy9cuJ0",
        "outputId": "19d4b3d8-90e7-4a41-adc3-09d24c2d5c79"
      },
      "execution_count": null,
      "outputs": [
        {
          "output_type": "display_data",
          "data": {
            "text/plain": [
              "<Figure size 432x288 with 1 Axes>"
            ],
            "image/png": "[encoded data removed]"
          },
          "metadata": {
            "needs_background": "light"
          }
        }
      ]
    },
    {
      "cell_type": "code",
      "source": [
        "# Select a random image from the test data\n",
        "idx = np.random.randint(0, test_images.shape[0])\n",
        "img = test_images[idx]\n",
        "\n",
        "# Plot the selected image\n",
        "plt.imshow(img, cmap='gray')\n",
        "plt.show()\n",
        "\n",
        "input_image = img.reshape(1, 784).astype('float32') / 255.0\n",
        "\n",
        "prediction = model.predict(input_image)\n",
        "print('The image is predicted as:', np.argmax(prediction))"
      ],
      "metadata": {
        "colab": {
          "base_uri": "https://localhost:8080/",
          "height": 300
        },
        "id": "PQYGZdhBdZt5",
        "outputId": "cbd32799-d47b-439c-a070-439e25631afc"
      },
      "execution_count": null,
      "outputs": [
        {
          "output_type": "display_data",
          "data": {
            "text/plain": [
              "<Figure size 432x288 with 1 Axes>"
            ],
            "image/png": "[encoded data removed]"
          },
          "metadata": {
            "needs_background": "light"
          }
        },
        {
          "output_type": "stream",
          "name": "stdout",
          "text": [
            "1/1 [==============================] - 0s 26ms/step\n",
            "The image is predicted as: 2\n"
          ]
        }
      ]
    },
    {
      "cell_type": "code",
      "source": [
        "#creating network\n",
        "model_upd = Sequential()\n",
        "model_upd.add(Dense(512, activation='tanh', input_shape=(dimData,)))\n",
        "model_upd.add(Dense(512, activation='tanh'))\n",
        "model_upd.add(Dense(256, activation='tanh'))\n",
        "model_upd.add(Dense(128, activation='tanh'))\n",
        "model_upd.add(Dense(10, activation='softmax'))\n",
        "\n",
        "model_upd.compile(optimizer='rmsprop', loss='categorical_crossentropy', metrics=['accuracy'])\n",
        "history = model_upd.fit(train_data, train_labels_one_hot, batch_size=256, epochs=10, verbose=1,\n",
        "                   validation_data=(test_data, test_labels_one_hot))"
      ],
      "metadata": {
        "colab": {
          "base_uri": "https://localhost:8080/"
        },
        "id": "TMTiwDWnoqjz",
        "outputId": "52cafe27-5059-4082-ea91-9d6769bab206"
      },
      "execution_count": null,
      "outputs": [
        {
          "output_type": "stream",
          "name": "stdout",
          "text": [
            "Epoch 1/10\n",
            "235/235 [==============================] - 10s 41ms/step - loss: 0.3548 - accuracy: 0.8903 - val_loss: 0.1926 - val_accuracy: 0.9444\n",
            "Epoch 2/10\n",
            "235/235 [==============================] - 8s 36ms/step - loss: 0.1455 - accuracy: 0.9558 - val_loss: 0.1749 - val_accuracy: 0.9456\n",
            "Epoch 3/10\n",
            "235/235 [==============================] - 10s 42ms/step - loss: 0.0980 - accuracy: 0.9694 - val_loss: 0.1277 - val_accuracy: 0.9602\n",
            "Epoch 4/10\n",
            "235/235 [==============================] - 10s 42ms/step - loss: 0.0705 - accuracy: 0.9779 - val_loss: 0.2338 - val_accuracy: 0.9230\n",
            "Epoch 5/10\n",
            "235/235 [==============================] - 9s 36ms/step - loss: 0.0543 - accuracy: 0.9831 - val_loss: 0.0902 - val_accuracy: 0.9726\n",
            "Epoch 6/10\n",
            "235/235 [==============================] - 10s 42ms/step - loss: 0.0396 - accuracy: 0.9876 - val_loss: 0.1559 - val_accuracy: 0.9531\n",
            "Epoch 7/10\n",
            "235/235 [==============================] - 10s 42ms/step - loss: 0.0304 - accuracy: 0.9903 - val_loss: 0.1162 - val_accuracy: 0.9650\n",
            "Epoch 8/10\n",
            "235/235 [==============================] - 9s 40ms/step - loss: 0.0236 - accuracy: 0.9929 - val_loss: 0.0875 - val_accuracy: 0.9727\n",
            "Epoch 9/10\n",
            "235/235 [==============================] - 8s 36ms/step - loss: 0.0184 - accuracy: 0.9943 - val_loss: 0.0765 - val_accuracy: 0.9765\n",
            "Epoch 10/10\n",
            "235/235 [==============================] - 10s 42ms/step - loss: 0.0135 - accuracy: 0.9959 - val_loss: 0.0759 - val_accuracy: 0.9785\n"
          ]
        }
      ]
    }
  ]
}